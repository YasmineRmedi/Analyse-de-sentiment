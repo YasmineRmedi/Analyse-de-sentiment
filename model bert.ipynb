{
 "cells": [
  {
   "cell_type": "code",
   "execution_count": 1,
   "id": "ddc068eb",
   "metadata": {},
   "outputs": [],
   "source": [
    "import pandas as pd\n",
    "data=pd.read_csv('data_cleaned.csv')"
   ]
  },
  {
   "cell_type": "code",
   "execution_count": 2,
   "id": "184f0311",
   "metadata": {},
   "outputs": [
    {
     "name": "stdout",
     "output_type": "stream",
     "text": [
      "train shape:  (173, 2)\n",
      "test shape:  (44, 2)\n"
     ]
    }
   ],
   "source": [
    "from sklearn.model_selection import train_test_split\n",
    "\n",
    "train_df, test_df = train_test_split(data, test_size=0.20)\n",
    "\n",
    "print('train shape: ',train_df.shape)\n",
    "print('test shape: ',test_df.shape)"
   ]
  },
  {
   "cell_type": "code",
   "execution_count": 3,
   "id": "068c62b2",
   "metadata": {},
   "outputs": [
    {
     "name": "stdout",
     "output_type": "stream",
     "text": [
      "train shape:  (173, 2)\n",
      "test shape:  (44, 2)\n"
     ]
    },
    {
     "name": "stderr",
     "output_type": "stream",
     "text": [
      "Some weights of BertForSequenceClassification were not initialized from the model checkpoint at bert-base-uncased and are newly initialized: ['classifier.bias', 'classifier.weight']\n",
      "You should probably TRAIN this model on a down-stream task to be able to use it for predictions and inference.\n"
     ]
    },
    {
     "name": "stdout",
     "output_type": "stream",
     "text": [
      "Accuracy: 0.89\n"
     ]
    }
   ],
   "source": [
    "from sklearn.model_selection import train_test_split\n",
    "from transformers import AutoModelForSequenceClassification, BertTokenizer\n",
    "from sklearn.metrics import accuracy_score\n",
    "import torch\n",
    "import random\n",
    "import numpy as np\n",
    "\n",
    "# Fixer les graines aléatoires pour la reproductibilité\n",
    "seed = 40\n",
    "np.random.seed(seed)\n",
    "torch.manual_seed(seed)\n",
    "torch.cuda.manual_seed_all(seed)\n",
    "random.seed(seed)\n",
    "\n",
    "# Charger les données et diviser en ensembles d'entraînement et de test\n",
    "train_df, test_df = train_test_split(data, test_size=0.2, random_state=0)\n",
    "print('train shape: ',train_df.shape)\n",
    "print('test shape: ',test_df.shape)\n",
    "\n",
    "# Charger le tokenizer\n",
    "tokenizer = BertTokenizer.from_pretrained('bert-base-uncased')\n",
    "\n",
    "# Charger le modèle\n",
    "model = AutoModelForSequenceClassification.from_pretrained(\n",
    "    'bert-base-uncased',\n",
    "    num_labels=3\n",
    ")\n",
    "\n",
    "# Définir la fonction pour convertir les étiquettes de sentiment en valeurs numériques\n",
    "sentiment_map = {\"positif\": 1, \"negatif\": 0, \"neutre\": 2}\n",
    "def convert_sentiment_to_num(sentiment):\n",
    "    return sentiment_map[sentiment]\n",
    "\n",
    "# Appliquer la fonction pour convertir les étiquettes de sentiment en valeurs numériques\n",
    "train_df[\"Sentiment\"] = train_df[\"Sentiment\"].apply(convert_sentiment_to_num)\n",
    "test_df[\"Sentiment\"] = test_df[\"Sentiment\"].apply(convert_sentiment_to_num)\n",
    "\n",
    "# Prétraiter les données\n",
    "train_encodings = tokenizer(train_df['Commentaire'].tolist(), truncation=True, padding=True, return_tensors='pt')\n",
    "test_encodings = tokenizer(test_df['Commentaire'].tolist(), truncation=True, padding=True, return_tensors='pt')\n",
    "\n",
    "# Préparer les étiquettes\n",
    "train_labels = torch.tensor(train_df['Sentiment'].tolist())\n",
    "test_labels = torch.tensor(test_df['Sentiment'].tolist())\n",
    "\n",
    "# Définir l'optimiseur\n",
    "optimizer = torch.optim.Adam(model.parameters(), lr=2e-6)\n",
    "\n",
    "\n",
    "\n",
    "# Faire des prédictions sur les données de test\n",
    "test_input_ids = tokenizer(test_df['Commentaire'].tolist(), padding=True, truncation=True, return_tensors='pt')\n",
    "test_output = model(**test_input_ids)[0]\n",
    "test_predictions = torch.argmax(test_output, dim=1).tolist()\n",
    "\n",
    "# Calculer l'accuracy\n",
    "accuracy = accuracy_score(test_df['Sentiment'], test_predictions)\n",
    "print(f'Accuracy: {accuracy:.2f}')"
   ]
  },
  {
   "cell_type": "code",
   "execution_count": 5,
   "id": "18da0d80",
   "metadata": {},
   "outputs": [
    {
     "name": "stdout",
     "output_type": "stream",
     "text": [
      "              precision    recall  f1-score   support\n",
      "\n",
      "     negatif       0.00      0.00      0.00         0\n",
      "     positif       1.00      0.88      0.94        43\n",
      "      neutre       0.20      1.00      0.33         1\n",
      "\n",
      "    accuracy                           0.89        44\n",
      "   macro avg       0.40      0.63      0.42        44\n",
      "weighted avg       0.98      0.89      0.92        44\n",
      "\n"
     ]
    },
    {
     "name": "stderr",
     "output_type": "stream",
     "text": [
      "C:\\Users\\YASMINA\\anaconda3\\lib\\site-packages\\sklearn\\metrics\\_classification.py:1509: UndefinedMetricWarning: Recall is ill-defined and being set to 0.0 in labels with no true samples. Use `zero_division` parameter to control this behavior.\n",
      "  _warn_prf(average, modifier, f\"{metric.capitalize()} is\", len(result))\n",
      "C:\\Users\\YASMINA\\anaconda3\\lib\\site-packages\\sklearn\\metrics\\_classification.py:1509: UndefinedMetricWarning: Recall is ill-defined and being set to 0.0 in labels with no true samples. Use `zero_division` parameter to control this behavior.\n",
      "  _warn_prf(average, modifier, f\"{metric.capitalize()} is\", len(result))\n",
      "C:\\Users\\YASMINA\\anaconda3\\lib\\site-packages\\sklearn\\metrics\\_classification.py:1509: UndefinedMetricWarning: Recall is ill-defined and being set to 0.0 in labels with no true samples. Use `zero_division` parameter to control this behavior.\n",
      "  _warn_prf(average, modifier, f\"{metric.capitalize()} is\", len(result))\n"
     ]
    }
   ],
   "source": [
    "from sklearn.metrics import accuracy_score, classification_report\n",
    "# Afficher le rapport de classification\n",
    "report = classification_report(test_df['Sentiment'], test_predictions, target_names=['negatif', 'positif', 'neutre'])\n",
    "print(report)"
   ]
  },
  {
   "cell_type": "code",
   "execution_count": null,
   "id": "b016c583",
   "metadata": {},
   "outputs": [],
   "source": []
  }
 ],
 "metadata": {
  "kernelspec": {
   "display_name": "Python 3 (ipykernel)",
   "language": "python",
   "name": "python3"
  },
  "language_info": {
   "codemirror_mode": {
    "name": "ipython",
    "version": 3
   },
   "file_extension": ".py",
   "mimetype": "text/x-python",
   "name": "python",
   "nbconvert_exporter": "python",
   "pygments_lexer": "ipython3",
   "version": "3.9.7"
  }
 },
 "nbformat": 4,
 "nbformat_minor": 5
}
